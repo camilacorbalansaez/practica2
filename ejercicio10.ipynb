{
 "cells": [
  {
   "cell_type": "markdown",
   "metadata": {},
   "source": [
    "Un club de hockey posee las estadísticas de todxs sus jugadorxs de la última temporada jugada del torneo de hockey mixto. \n",
    "Poseen una lista con los nombres, otra con los goles a favor, otra con los goles evitados y la última con las asistencias realizadas. \n",
    "El club está por otorgar los premios de cierre de temporada y necesita:\n",
    "\n",
    "1. Generar una estructura todas las estadísticas asociadas a cada jugador o\n",
    "jugadora.\n",
    "2. Conocer el nombre y la cantidad de goles del goleador o goleadora.\n",
    "3. Conocer el nombre del jugador o jugadora más influyente, esto se consigue\n",
    "sumando goles a favor, goles evitados y cantidad de asistencias. La particularidad\n",
    "es que los goles a favor, evitados y las asistencias NO valen lo mismo (es un\n",
    "promedio ponderado):\n",
    "valor\n",
    "goles a favor1.5\n",
    "goles en evitados1.25\n",
    "asistencias1\n",
    "4. Conocer el promedio de goles por partido del equipo en general. Dato: Se jugaron\n",
    "25 partidos en la temporada.\n",
    "5. Conocer el promedio de goles por partido del goleador o goleadora. Dato: Se\n",
    "jugaron 25 partidos en la temporada."
   ]
  },
  {
   "cell_type": "code",
   "execution_count": null,
   "metadata": {},
   "outputs": [],
   "source": [
    "import modulos\n",
    "names = \"\"\" Agustin, Yanina, Andrés, Ariadna, Bautista, CAROLINA,\n",
    "CESAR, David, Diego, Dolores, DYLAN, ELIANA, Emanuel, Fabián, Noelia,\n",
    "Francsica', FEDERICO, Fernanda, GONZALO, Nancy \"\"\"\n",
    "goals = [0, 10, 4, 0, 5, 14, 0, 0, 7, 2, 1, 1, 1, 5, 6, 1, 1, 2, 0,\n",
    "11]\n",
    "goals_avoided = [0, 2, 0, 0, 5, 2, 0, 0, 1, 2, 0, 5, 5, 0, 1, 0, 2,\n",
    "3, 0, 0]\n",
    "assists = [0, 5, 1, 0, 5, 2, 0, 0, 1, 2, 1, 5, 5, 0, 1, 0, 2, 3, 1,\n",
    "0]\n",
    "names=names.split()\n",
    "matches=25\n",
    "players_statistics=modulos.generate(names,goals,goals_avoided,assists)\n",
    "max_scorer_name, max_scorer_goals=modulos.max_scorer(players_statistics)\n",
    "most_influent_name, most_influent_total=modulos.most_influent(players_statistics)\n",
    "average_scores=modulos.calculate_average_scores(players_statistics, matches)\n",
    "average_scorer=modulos.calculate_average_scorer(max_scorer_goals, matches)\n",
    "for i in players_statistics:\n",
    "    print(f'Nombre {i[0]} cantidad de goles {i[1]} cantidad de goles avoided {i[2]} y asistencias {i[2]}')\n",
    "print(f'El máximo goleador es {max_scorer_name} con {max_scorer_goals} goles')\n",
    "print(f'El jugador más influyente es {most_influent_name} con {most_influent_total} puntos en total.')\n",
    "print(f'El promedio total de goles en los {matches} partidos es de {average_scores}')\n",
    "print(f'El máximo goleador {max_scorer_name} tiene un promedio de {average_scorer} goles.')"
   ]
  }
 ],
 "metadata": {
  "kernelspec": {
   "display_name": "Python 3",
   "language": "python",
   "name": "python3"
  },
  "language_info": {
   "codemirror_mode": {
    "name": "ipython",
    "version": 3
   },
   "file_extension": ".py",
   "mimetype": "text/x-python",
   "name": "python",
   "nbconvert_exporter": "python",
   "pygments_lexer": "ipython3",
   "version": "3.11.7"
  }
 },
 "nbformat": 4,
 "nbformat_minor": 2
}
