{
 "cells": [
  {
   "cell_type": "code",
   "execution_count": 1,
   "metadata": {},
   "outputs": [
    {
     "name": "stdout",
     "output_type": "stream",
     "text": [
      "Nombre Agustin, cantidad de goles 0 cantidad de goles avoided 0 y asistencias 0\n",
      "Nombre Yanina, cantidad de goles 10 cantidad de goles avoided 2 y asistencias 2\n",
      "Nombre Andrés, cantidad de goles 4 cantidad de goles avoided 0 y asistencias 0\n",
      "Nombre Ariadna, cantidad de goles 0 cantidad de goles avoided 0 y asistencias 0\n",
      "Nombre Bautista, cantidad de goles 5 cantidad de goles avoided 5 y asistencias 5\n",
      "Nombre CAROLINA, cantidad de goles 14 cantidad de goles avoided 2 y asistencias 2\n",
      "Nombre CESAR, cantidad de goles 0 cantidad de goles avoided 0 y asistencias 0\n",
      "Nombre David, cantidad de goles 0 cantidad de goles avoided 0 y asistencias 0\n",
      "Nombre Diego, cantidad de goles 7 cantidad de goles avoided 1 y asistencias 1\n",
      "Nombre Dolores, cantidad de goles 2 cantidad de goles avoided 2 y asistencias 2\n",
      "Nombre DYLAN, cantidad de goles 1 cantidad de goles avoided 0 y asistencias 0\n",
      "Nombre ELIANA, cantidad de goles 1 cantidad de goles avoided 5 y asistencias 5\n",
      "Nombre Emanuel, cantidad de goles 1 cantidad de goles avoided 5 y asistencias 5\n",
      "Nombre Fabián, cantidad de goles 5 cantidad de goles avoided 0 y asistencias 0\n",
      "Nombre Noelia, cantidad de goles 6 cantidad de goles avoided 1 y asistencias 1\n",
      "Nombre Francsica', cantidad de goles 1 cantidad de goles avoided 0 y asistencias 0\n",
      "Nombre FEDERICO, cantidad de goles 1 cantidad de goles avoided 2 y asistencias 2\n",
      "Nombre Fernanda, cantidad de goles 2 cantidad de goles avoided 3 y asistencias 3\n",
      "Nombre GONZALO, cantidad de goles 0 cantidad de goles avoided 0 y asistencias 0\n",
      "Nombre Nancy cantidad de goles 11 cantidad de goles avoided 0 y asistencias 0\n",
      "El máximo goleador es CAROLINA, con 14 goles\n",
      "El jugador más influyente es CAROLINA, con 25.5 puntos en total.\n",
      "El promedio total de goles en los 25 partidos es de 2.84\n"
     ]
    }
   ],
   "source": [
    "from modulos import funciones\n",
    "names = \"\"\" Agustin, Yanina, Andrés, Ariadna, Bautista, CAROLINA,\n",
    "CESAR, David, Diego, Dolores, DYLAN, ELIANA, Emanuel, Fabián, Noelia,\n",
    "Francsica', FEDERICO, Fernanda, GONZALO, Nancy \"\"\"\n",
    "goals = [0, 10, 4, 0, 5, 14, 0, 0, 7, 2, 1, 1, 1, 5, 6, 1, 1, 2, 0,\n",
    "11]\n",
    "goals_avoided = [0, 2, 0, 0, 5, 2, 0, 0, 1, 2, 0, 5, 5, 0, 1, 0, 2,\n",
    "3, 0, 0]\n",
    "assists = [0, 5, 1, 0, 5, 2, 0, 0, 1, 2, 1, 5, 5, 0, 1, 0, 2, 3, 1,\n",
    "0]\n",
    "names=names.split()\n",
    "matches=25\n",
    "players_statistics= funciones.generate(names, goals, goals_avoided, assists)\n",
    "max_scorer_name, max_scorer_goals=funciones.max_scorer(players_statistics)\n",
    "most_influent_name, most_influent_total=funciones.most_influent(players_statistics)\n",
    "average_scores=funciones.calculate_average_scores(players_statistics, matches)\n",
    "for i in players_statistics:\n",
    "    print(f'Nombre {i[0]} cantidad de goles {i[1]} cantidad de goles avoided {i[2]} y asistencias {i[2]}')\n",
    "print(f'El máximo goleador es {max_scorer_name} con {max_scorer_goals} goles')\n",
    "print(f'El jugador más influyente es {most_influent_name} con {most_influent_total} puntos en total.')\n",
    "print(f'El promedio total de goles en los {matches} partidos es de {average_scores}')"
   ]
  }
 ],
 "metadata": {
  "kernelspec": {
   "display_name": "Python 3",
   "language": "python",
   "name": "python3"
  },
  "language_info": {
   "codemirror_mode": {
    "name": "ipython",
    "version": 3
   },
   "file_extension": ".py",
   "mimetype": "text/x-python",
   "name": "python",
   "nbconvert_exporter": "python",
   "pygments_lexer": "ipython3",
   "version": "3.11.7"
  }
 },
 "nbformat": 4,
 "nbformat_minor": 2
}
