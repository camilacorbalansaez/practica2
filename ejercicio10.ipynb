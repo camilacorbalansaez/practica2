{
 "cells": [
  {
   "cell_type": "code",
   "execution_count": 35,
   "metadata": {},
   "outputs": [
    {
     "name": "stdout",
     "output_type": "stream",
     "text": [
      "El jugador  Agustin,  anotó  0  goles en la última temporada.\n",
      "El jugador  Yanina,  anotó  10  goles en la última temporada.\n",
      "El jugador  Andrés,  anotó  4  goles en la última temporada.\n",
      "El jugador  Ariadna,  anotó  0  goles en la última temporada.\n",
      "El jugador  Bautista,  anotó  5  goles en la última temporada.\n",
      "El jugador  CAROLINA,  anotó  14  goles en la última temporada.\n",
      "El jugador  CESAR,  anotó  0  goles en la última temporada.\n",
      "El jugador  David,  anotó  0  goles en la última temporada.\n",
      "El jugador  Diego,  anotó  7  goles en la última temporada.\n",
      "El jugador  Dolores,  anotó  2  goles en la última temporada.\n",
      "El jugador  DYLAN,  anotó  1  goles en la última temporada.\n",
      "El jugador  ELIANA,  anotó  1  goles en la última temporada.\n",
      "El jugador  Emanuel,  anotó  1  goles en la última temporada.\n",
      "El jugador  Fabián,  anotó  5  goles en la última temporada.\n",
      "El jugador  Noelia,  anotó  6  goles en la última temporada.\n",
      "El jugador  Francsica',  anotó  1  goles en la última temporada.\n",
      "El jugador  FEDERICO,  anotó  1  goles en la última temporada.\n",
      "El jugador  Fernanda,  anotó  2  goles en la última temporada.\n",
      "El jugador  GONZALO,  anotó  0  goles en la última temporada.\n",
      "El jugador  Nancy  anotó  11  goles en la última temporada.\n",
      "El jugador más influyente es  CAROLINA,  con  14  en total.\n"
     ]
    }
   ],
   "source": [
    "from modulos import estadisticas\n",
    "from modulos import conocer_jugador\n",
    "from modulos import conocer_mas_influyente\n",
    "names = \"\"\" Agustin, Yanina, Andrés, Ariadna, Bautista, CAROLINA,\n",
    "CESAR, David, Diego, Dolores, DYLAN, ELIANA, Emanuel, Fabián, Noelia,\n",
    "Francsica', FEDERICO, Fernanda, GONZALO, Nancy \"\"\"\n",
    "goals = [0, 10, 4, 0, 5, 14, 0, 0, 7, 2, 1, 1, 1, 5, 6, 1, 1, 2, 0,\n",
    "11]\n",
    "goals_avoided = [0, 2, 0, 0, 5, 2, 0, 0, 1, 2, 0, 5, 5, 0, 1, 0, 2,\n",
    "3, 0, 0]\n",
    "assists = [0, 5, 1, 0, 5, 2, 0, 0, 1, 2, 1, 5, 5, 0, 1, 0, 2, 3, 1,\n",
    "0]\n",
    "names=names.split()\n",
    "players_statistics= estadisticas.generate(names, goals, goals_avoided, assists)\n",
    "conocer_jugador.know_player_goals(players_statistics)\n",
    "conocer_mas_influyente.most_influent(players_statistics)"
   ]
  }
 ],
 "metadata": {
  "kernelspec": {
   "display_name": "Python 3",
   "language": "python",
   "name": "python3"
  },
  "language_info": {
   "codemirror_mode": {
    "name": "ipython",
    "version": 3
   },
   "file_extension": ".py",
   "mimetype": "text/x-python",
   "name": "python",
   "nbconvert_exporter": "python",
   "pygments_lexer": "ipython3",
   "version": "3.11.7"
  }
 },
 "nbformat": 4,
 "nbformat_minor": 2
}
