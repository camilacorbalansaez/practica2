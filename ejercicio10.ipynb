{
 "cells": [
  {
   "cell_type": "markdown",
   "metadata": {},
   "source": [
    "Un club de hockey posee las estadísticas de todxs sus jugadorxs de la última temporada jugada del torneo de hockey mixto. \n",
    "Poseen una lista con los *nombres*, otra con los *goles a favor*, otra con los *goles evitados* y la última con las *asistencias realizadas*. \n",
    "El club está por otorgar los premios de cierre de temporada y necesita:\n",
    "\n",
    "1. **Generar una estructura todas las estadísticas asociadas a cada jugador o jugadora.**\n",
    "2. **Conocer el nombre y la cantidad de goles del goleador o goleadora.**\n",
    "3. **Conocer el nombre del jugador o jugadora más influyente, esto se consigue sumando goles a favor, goles evitados y cantidad de asistencias.**\n",
    "   **La particularidad es que los goles a favor, evitados y las asistencias *NO* valen lo mismo.**\n",
    "  **- goles a favor = *1.5***\n",
    "  **- goles en evitados = *1.25***\n",
    "  **- asistencias = *1***\n",
    "4. **Conocer el promedio de goles por partido del equipo en general. Dato: Se jugaron *25 partidos* en la temporada.**\n",
    "5. **Conocer el promedio de goles por partido del goleador o goleadora. Dato: Se jugaron *25 partidos* en la temporada.**\n",
    "\n",
    "Las 4 estructuras están *ordenadas de forma que los elementos en la misma posición corresponden a un mismo jugador o jugadora*.\n",
    "Realizar funciones con cada ítem."
   ]
  },
  {
   "cell_type": "code",
   "execution_count": 4,
   "metadata": {},
   "outputs": [],
   "source": [
    "import modulos"
   ]
  },
  {
   "cell_type": "markdown",
   "metadata": {},
   "source": [
    "Importo *modulos*, carpeta en la cual tengo el archivo con las distintas funciones. "
   ]
  },
  {
   "cell_type": "code",
   "execution_count": 5,
   "metadata": {},
   "outputs": [],
   "source": [
    "names = \"\"\" Agustin, Yanina, Andrés, Ariadna, Bautista, CAROLINA,\n",
    "CESAR, David, Diego, Dolores, DYLAN, ELIANA, Emanuel, Fabián, Noelia,\n",
    "Francsica', FEDERICO, Fernanda, GONZALO, Nancy \"\"\"\n",
    "names=names.split()\n",
    "goals = [0, 10, 4, 0, 5, 14, 0, 0, 7, 2, 1, 1, 1, 5, 6, 1, 1, 2, 0,\n",
    "11]\n",
    "goals_avoided = [0, 2, 0, 0, 5, 2, 0, 0, 1, 2, 0, 5, 5, 0, 1, 0, 2,\n",
    "3, 0, 0]\n",
    "assists = [0, 5, 1, 0, 5, 2, 0, 0, 1, 2, 1, 5, 5, 0, 1, 0, 2, 3, 1,\n",
    "0]\n",
    "matches=25"
   ]
  },
  {
   "cell_type": "markdown",
   "metadata": {},
   "source": [
    "Declaro las variables. \n",
    "Los nombres están en una cadena de strings, por lo que lo transformo en una **lista de strings**, la lista de nombres. "
   ]
  },
  {
   "cell_type": "code",
   "execution_count": 6,
   "metadata": {},
   "outputs": [],
   "source": [
    "players_statistics=modulos.generate(names,goals,goals_avoided,assists)"
   ]
  },
  {
   "cell_type": "markdown",
   "metadata": {},
   "source": [
    "A la variable *\"players_statics\"* le asigno la función que generará la estructura de las estadísticas. \n",
    "La estructura es una **lista de tuplas** que sigue el siguiente orden= \"Nombre, goles realizados, goles evitados y asistencias\". \n",
    "Elegí que los datos estén almacenados en **tuplas** debido a que estas últimas son *inmutables*, es decir que no se pueden modificar y,\n",
    "como la temporada ya terminó, no habrá nuevas adiciones ni cambios en las estadísticas de los jugadores. Además, siempre se tienen en \n",
    "cuenta las mismas cuatro categorías. \n",
    "Por otro lado, decidí que estas tuplas estén contenidas en una **lista** por su sencillez a la hora de realizar iteraciones, me pareció una\n",
    "elección óptima para las futuras consignas, que son de comparación de datos. \n",
    "Los argumentos que le asigno son la lista de nombres, la lista de goles realizados, la lista de goles evitados y la lista de asistencias. \n",
    "La función *\"generate\"* se encarga de agregar a una lista los datos de los jugadores en una tupla a partir de la función *\"zip\"* y retorna\n",
    "dicha estructura. "
   ]
  },
  {
   "cell_type": "code",
   "execution_count": 7,
   "metadata": {},
   "outputs": [],
   "source": [
    "max_scorer_name, max_scorer_goals=modulos.max_scorer(players_statistics)"
   ]
  },
  {
   "cell_type": "markdown",
   "metadata": {},
   "source": [
    "A las variables *\"max_scorer_name\"* y *max_scorer_goals* le asigno la función que indicará qué jugador es el máximo goleador. \n",
    "Como argumento tiene la estructura realizada anteriormente, una **lista de tuplas** con las estadísticas de cada jugador. \n",
    "Para encontrar el máximo utilicé la función *\"max()\"* combinándola con una función *lambda*. La función lambda tiene como argumento x, \n",
    "por cada iteración, x va a tener como contenido la cantidad de goles. \n",
    "La función retorna el nombre del máximo goleador y la cantidad de goles realizados por el mismo. "
   ]
  },
  {
   "cell_type": "code",
   "execution_count": 11,
   "metadata": {},
   "outputs": [],
   "source": [
    "most_influent_name, most_influent_total=modulos.most_influent(players_statistics)"
   ]
  },
  {
   "cell_type": "markdown",
   "metadata": {},
   "source": [
    "A las variables *\"most_influent_name\"* y *\"most_influent_total\"* le asigno la función que indicará qué jugador es el más influyente.\n",
    "Como argumento tiene la estructura realizada anteriormente, una **lista de tuplas** con las estadísticas de cada jugador. \n",
    "Para encontrar al jugador más influyente, combiné *\"max()\"* y una función *lambda*, como en el inciso anterior. Esta vez, el valor de x en la iteración \n",
    "es la multiplicación de los goles realizados, los goles evitados y las asistencias por sus respectivos valores. *(1.5, 1.25 y 1)*. \n",
    "La función retorna el nombre del jugador más influyente y su total de puntos. "
   ]
  },
  {
   "cell_type": "code",
   "execution_count": 12,
   "metadata": {},
   "outputs": [],
   "source": [
    "average_scores=modulos.calculate_average_scores(players_statistics, matches)"
   ]
  },
  {
   "cell_type": "markdown",
   "metadata": {},
   "source": [
    "A la variable *\"average_scores\"* le asigno la función que calculará el promedio de goles por partido. \n",
    "Como argumento tiene la estructura realizada anteriormente, una **lista de tuplas** y la cantidad de partidos jugados. \n",
    "Para conocer el total de goles, utilicé la función *\"sum()\"* que realizó la sumatoria únicamente de los goles realizados. Después \n",
    "dividí el valor por la cantidad de partidos jugados. \n",
    "La función retorna el promedio de goles por partido. "
   ]
  },
  {
   "cell_type": "code",
   "execution_count": 13,
   "metadata": {},
   "outputs": [],
   "source": [
    "average_scorer=modulos.calculate_average_scorer(max_scorer_goals, matches)"
   ]
  },
  {
   "cell_type": "markdown",
   "metadata": {},
   "source": [
    "A la variable *\"average_scorer\"* le asigno la función que calculará el promedio de goles por partido del máximo goleador. \n",
    "Como argumento tiene el dato de los goles del máximo goleador, calculado anteriormente, y de la cantidad de partidos jugados.  \n",
    "La función retorna el promedio de goles del máximo goleador, la división de los dos argumentos. "
   ]
  },
  {
   "cell_type": "code",
   "execution_count": null,
   "metadata": {},
   "outputs": [],
   "source": [
    "for i in players_statistics:\n",
    "    print(f'Nombre {i[0]} cantidad de goles realizados {i[1]}, cantidad de goles evitados {i[2]}, y cantidad de asistencias {i[2]}.')\n",
    "print(f'El máximo goleador es {max_scorer_name} con {max_scorer_goals} goles realizados.')\n",
    "print(f'El jugador más influyente es {most_influent_name} con {most_influent_total} puntos en total.')\n",
    "print(f'El promedio total de goles en los {matches} partidos es de {average_scores}')\n",
    "print(f'El máximo goleador {max_scorer_name} tiene un promedio de {average_scorer} goles por partido.')"
   ]
  },
  {
   "cell_type": "markdown",
   "metadata": {},
   "source": [
    "Realizo la impresión de la estructura de las estadísticas y de los otros incisos. "
   ]
  }
 ],
 "metadata": {
  "kernelspec": {
   "display_name": "Python 3",
   "language": "python",
   "name": "python3"
  },
  "language_info": {
   "codemirror_mode": {
    "name": "ipython",
    "version": 3
   },
   "file_extension": ".py",
   "mimetype": "text/x-python",
   "name": "python",
   "nbconvert_exporter": "python",
   "pygments_lexer": "ipython3",
   "version": "3.11.7"
  }
 },
 "nbformat": 4,
 "nbformat_minor": 2
}
