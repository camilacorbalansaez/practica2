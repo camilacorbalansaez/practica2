{
 "cells": [
  {
   "cell_type": "code",
   "execution_count": null,
   "metadata": {},
   "outputs": [],
   "source": [
    "from modulos import funciones\n",
    "names = \"\"\" Agustin, Yanina, Andrés, Ariadna, Bautista, CAROLINA,\n",
    "CESAR, David, Diego, Dolores, DYLAN, ELIANA, Emanuel, Fabián, Noelia,\n",
    "Francsica', FEDERICO, Fernanda, GONZALO, Nancy \"\"\"\n",
    "goals = [0, 10, 4, 0, 5, 14, 0, 0, 7, 2, 1, 1, 1, 5, 6, 1, 1, 2, 0,\n",
    "11]\n",
    "goals_avoided = [0, 2, 0, 0, 5, 2, 0, 0, 1, 2, 0, 5, 5, 0, 1, 0, 2,\n",
    "3, 0, 0]\n",
    "assists = [0, 5, 1, 0, 5, 2, 0, 0, 1, 2, 1, 5, 5, 0, 1, 0, 2, 3, 1,\n",
    "0]\n",
    "names=names.split()\n",
    "matches=25\n",
    "players_statistics= funciones.generate(names, goals, goals_avoided, assists)\n",
    "max_scorer_name, max_scorer_goals=funciones.max_scorer(players_statistics)\n",
    "most_influent_name, most_influent_total=funciones.most_influent(players_statistics)\n",
    "average_scores=funciones.calculate_scores_average(players_statistics, matches)\n",
    "for i in players_statistics:\n",
    "    print(f'Nombre {i[0]} cantidad de goles {i[1]} cantidad de goles avoided {i[2]} y asistencias {i[2]}')\n",
    "print(f'El máximo goleador es {max_scorer_name} con {max_scorer_goals} goles')\n",
    "print(f'El jugador más influyente es {most_influent_name} con {most_influent_total} puntos en total.')\n",
    "print(f'El promedio total de goles en los {matches} partidos es de {average_scores}')"
   ]
  }
 ],
 "metadata": {
  "kernelspec": {
   "display_name": "Python 3",
   "language": "python",
   "name": "python3"
  },
  "language_info": {
   "codemirror_mode": {
    "name": "ipython",
    "version": 3
   },
   "file_extension": ".py",
   "mimetype": "text/x-python",
   "name": "python",
   "nbconvert_exporter": "python",
   "pygments_lexer": "ipython3",
   "version": "3.11.7"
  }
 },
 "nbformat": 4,
 "nbformat_minor": 2
}
