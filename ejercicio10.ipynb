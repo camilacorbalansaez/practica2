{
 "cells": [
  {
   "cell_type": "code",
   "execution_count": 7,
   "metadata": {},
   "outputs": [
    {
     "name": "stdout",
     "output_type": "stream",
     "text": [
      "[('Agustin,', 0, 0, 0), ('Yanina,', 10, 2, 5), ('Andrés,', 4, 0, 1), ('Ariadna,', 0, 0, 0), ('Bautista,', 5, 5, 5), ('CAROLINA,', 14, 2, 2), ('CESAR,', 0, 0, 0), ('David,', 0, 0, 0), ('Diego,', 7, 1, 1), ('Dolores,', 2, 2, 2), ('DYLAN,', 1, 0, 1), ('ELIANA,', 1, 5, 5), ('Emanuel,', 1, 5, 5), ('Fabián,', 5, 0, 0), ('Noelia,', 6, 1, 1), (\"Francsica',\", 1, 0, 0), ('FEDERICO,', 1, 2, 2), ('Fernanda,', 2, 3, 3), ('GONZALO,', 0, 0, 1), ('Nancy', 11, 0, 0)]\n"
     ]
    }
   ],
   "source": [
    "from modulos import estadisticas\n",
    "names = \"\"\" Agustin, Yanina, Andrés, Ariadna, Bautista, CAROLINA,\n",
    "CESAR, David, Diego, Dolores, DYLAN, ELIANA, Emanuel, Fabián, Noelia,\n",
    "Francsica', FEDERICO, Fernanda, GONZALO, Nancy \"\"\"\n",
    "goals = [0, 10, 4, 0, 5, 14, 0, 0, 7, 2, 1, 1, 1, 5, 6, 1, 1, 2, 0,\n",
    "11]\n",
    "goals_avoided = [0, 2, 0, 0, 5, 2, 0, 0, 1, 2, 0, 5, 5, 0, 1, 0, 2,\n",
    "3, 0, 0]\n",
    "assists = [0, 5, 1, 0, 5, 2, 0, 0, 1, 2, 1, 5, 5, 0, 1, 0, 2, 3, 1,\n",
    "0]\n",
    "names=names.split()\n",
    "players_statistics= estadisticas.generate(names, goals, goals_avoided, assists)\n",
    "print(players_statistics)"
   ]
  }
 ],
 "metadata": {
  "kernelspec": {
   "display_name": "Python 3",
   "language": "python",
   "name": "python3"
  },
  "language_info": {
   "codemirror_mode": {
    "name": "ipython",
    "version": 3
   },
   "file_extension": ".py",
   "mimetype": "text/x-python",
   "name": "python",
   "nbconvert_exporter": "python",
   "pygments_lexer": "ipython3",
   "version": "3.11.7"
  }
 },
 "nbformat": 4,
 "nbformat_minor": 2
}
